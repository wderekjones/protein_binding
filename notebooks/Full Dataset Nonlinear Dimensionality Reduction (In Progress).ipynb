{
 "cells": [
  {
   "cell_type": "markdown",
   "metadata": {},
   "source": [
    "# Nonlinear Dimensionality Reduction\n",
    "Due to the strong assumptions made regarding the possible function space of the linear mapping, $~f: \\mathcal{R}^{m} \\rightarrow \\mathcal{R}^{n}$ that we can exctract from Principal Components Analysis (PCA), it is helpful to consider other dimensionality reduction techniques in order to better understand the structure of high dimensional data. An autoencoder is a neural network that learns an isomorphic mapping between two sets, $~\\Phi: \\mathcal{R}^{m} \\rightarrow \\mathcal{R}^{n}$. Because autoencoders are neural networks that apply non-linear activation functions to their inputs, this type of network is able to learn *non-linear* mappings from high dimensional space to a lower dimensional *latent space* from which we can get a sense of the high dimensional structures of a dataset in a form that we can more easily interpret visually.  "
   ]
  },
  {
   "cell_type": "code",
   "execution_count": 1,
   "metadata": {
    "collapsed": true
   },
   "outputs": [],
   "source": [
    "import os\n",
    "import pandas as pd\n",
    "import time\n",
    "from tqdm import tqdm\n",
    "import glob\n",
    "import numpy as np\n",
    "from utils.input_pipeline import *\n",
    "#TODO: Try the variational approach instead.\n",
    "#TODO: instead of solving for a small dimension representation, then traiing a RF on this...make the dims larger and try a linear model instead?"
   ]
  },
  {
   "cell_type": "markdown",
   "metadata": {},
   "source": [
    "### Loading the data\n",
    "The ligand data is stored within a series of seperate ~50mb chunks on disk written as .csv (future improvement will be to move this to .h5) flat files. Each chunk of data has the same number of feature columns with varying number of rows, is loaded and stored as an element in a list from which the contents will be concatenated as a single dataframe. Several methods for loading the data were considered however the ease of use pandas for performing necessary data manipulation/formatting combined with the efficiency of numpy makes it possible to use a large number of machine learning libraries to learn on the data rather than being restricted to any builtin functionality of other utilities.\n",
    "The scikit-learn library, keras, and tensorflow are among the most powerful and robust machine learning libraries avilable for python, each are compatible with numpy arrays from which pandas dataframes act as a wrapper to provide sql like functionality.  "
   ]
  },
  {
   "cell_type": "code",
   "execution_count": 2,
   "metadata": {},
   "outputs": [
    {
     "name": "stdout",
     "output_type": "stream",
     "text": [
      "890\n"
     ]
    }
   ],
   "source": [
    "def data_gen(file_path, batch_steps,categorical=False, sample_size=None, features_list=None, mode=None, conformation=None):\n",
    "    #decide upon receptor versus protein for naming conventions\n",
    "    receptor_list = list(h5py.File(file_path,'r'))\n",
    "    while(1):\n",
    "        random.shuffle(receptor_list)\n",
    "        \n",
    "        X,y = load_protein(file_path, protein_name=receptor_list[0], sample_size=None,\n",
    "                               features_list=features_list,mode=mode, conformation=conformation)\n",
    "        X = Normalizer().fit_transform(Imputer(strategy=\"median\").fit_transform(np.nan_to_num(X)))\n",
    "        y = y.flatten()\n",
    "        \n",
    "        positives = X[y==1,:]\n",
    "        negatives = X[y==0,:]\n",
    "        for step in range(batch_steps):\n",
    "            negatives_to_keep = np.random.choice(negatives.shape[0],sample_size,replace = True)\n",
    "\n",
    "            X_batch = np.vstack((negatives[negatives_to_keep],positives))\n",
    "            X_batch = np.vstack((X_batch,positives))\n",
    "            y_batch = np.hstack((y[y==0][negatives_to_keep],y[y==1]))\n",
    "            y_batch = np.hstack((y_batch,y[y==1]))\n",
    "            if categorical is True:\n",
    "                yield X_batch, to_categorical(y_batch)\n",
    "            else:\n",
    "                yield X_batch, y_batch\n",
    "                \n",
    "with open(\"data/preprocessed_features.csv\", \"r\") as input_file:\n",
    "    feature_list = []\n",
    "    for line in input_file:\n",
    "        line = line.strip('\\n')\n",
    "        feature_list.append(line)\n",
    "        \n",
    "print(len(feature_list))"
   ]
  },
  {
   "cell_type": "code",
   "execution_count": 3,
   "metadata": {},
   "outputs": [
    {
     "name": "stderr",
     "output_type": "stream",
     "text": [
      "\r",
      "  0%|          | 0/26 [00:00<?, ?it/s]"
     ]
    },
    {
     "name": "stdout",
     "output_type": "stream",
     "text": [
      "loading data...\n",
      "loading 26 proteins.\n"
     ]
    },
    {
     "name": "stderr",
     "output_type": "stream",
     "text": [
      "100%|██████████| 26/26 [02:56<00:00,  3.64s/it]"
     ]
    },
    {
     "name": "stdout",
     "output_type": "stream",
     "text": [
      "data loaded in 176.48119711875916 seconds.\n"
     ]
    },
    {
     "name": "stderr",
     "output_type": "stream",
     "text": [
      "\n"
     ]
    }
   ],
   "source": [
    "print(\"loading data...\")\n",
    "t0 = time.time()\n",
    "X,y = load_data(\"data/full_26_kinase_data.h5\",features_list=feature_list)\n",
    "t1 = time.time()\n",
    "print(\"data loaded in\",(t1-t0),\"seconds.\")"
   ]
  },
  {
   "cell_type": "markdown",
   "metadata": {},
   "source": [
    "Store the result of dropping the label column from the dataframe as the input data $X$. In order to preserve the number of training examples, impute the missing values as the average values of their respective column from the input matrix."
   ]
  },
  {
   "cell_type": "code",
   "execution_count": 4,
   "metadata": {},
   "outputs": [],
   "source": [
    "from sklearn.preprocessing import Imputer\n",
    "\n",
    "X = Imputer().fit_transform(X)\n"
   ]
  },
  {
   "cell_type": "code",
   "execution_count": 5,
   "metadata": {
    "collapsed": true
   },
   "outputs": [],
   "source": [
    "from sklearn.preprocessing import normalize\n",
    "\n",
    "X = normalize(X)\n"
   ]
  },
  {
   "cell_type": "code",
   "execution_count": 6,
   "metadata": {},
   "outputs": [],
   "source": [
    "from sklearn.model_selection import train_test_split\n",
    "X_train,X_test,y_train,y_test = train_test_split(X,y,test_size=0.2)"
   ]
  },
  {
   "cell_type": "code",
   "execution_count": 33,
   "metadata": {},
   "outputs": [],
   "source": [
    "import tensorflow as tf\n",
    "import keras.backend as K\n",
    "\n",
    "\n",
    "\n",
    "from keras.models import Model\n",
    "from keras.layers import Input, Dense, Dropout\n",
    "from keras.layers.advanced_activations import PReLU\n",
    "from keras import optimizers, objectives, regularizers\n",
    "from keras.callbacks import EarlyStopping, ModelCheckpoint\n",
    "\n",
    "from sklearn.metrics import mean_squared_error\n",
    "\n",
    "\n",
    "K.set_session(tf.Session(config=tf.ConfigProto(inter_op_parallelism_threads=10,\n",
    "                                        intra_op_parallelism_threads=10)))\n",
    "\n",
    "num_epochs = 10\n",
    "encoding_dim = 460\n",
    "learning_rate = 1e-3\n",
    "\n",
    "input_data = Input(shape=(X.shape[1],))\n",
    "alpha = 'glorot_uniform'\n",
    "\n",
    "encoded = Dense(int(np.ceil(X.shape[1]/2)),kernel_regularizer=regularizers.l2(0.01))(input_data)\n",
    "encoded = PReLU(alpha_initializer=alpha)(encoded)\n",
    "encoded = Dense(int(np.ceil(X.shape[1]/16)))(encoded)\n",
    "encoded = PReLU(alpha_initializer=alpha)(encoded)\n",
    "encoded = Dense(int(np.ceil(X.shape[1]/16)))(encoded)\n",
    "encoded = PReLU(alpha_initializer=alpha)(encoded)\n",
    "encoded = Dense(encoding_dim)(encoded)\n",
    "encoded = Dropout(0.5)(encoded)\n",
    "\n",
    "encoded = PReLU(alpha_initializer=alpha)(encoded)\n",
    "\n",
    "decoded = Dense(int(np.ceil(X.shape[1]/16)))(encoded)\n",
    "decoded = PReLU(alpha_initializer=alpha)(decoded)\n",
    "decoded = Dense(int(np.ceil(X.shape[1]/16)))(decoded)\n",
    "decoded = PReLU(alpha_initializer=alpha)(decoded)\n",
    "decoded = Dense(int(np.ceil(X.shape[1]/16)))(decoded)\n",
    "decoded = PReLU(alpha_initializer=alpha)(decoded)\n",
    "decoded = Dense(X.shape[1])(decoded)"
   ]
  },
  {
   "cell_type": "markdown",
   "metadata": {},
   "source": [
    "## Model Description: Encoder"
   ]
  },
  {
   "cell_type": "code",
   "execution_count": 34,
   "metadata": {},
   "outputs": [
    {
     "name": "stdout",
     "output_type": "stream",
     "text": [
      "_________________________________________________________________\n",
      "Layer (type)                 Output Shape              Param #   \n",
      "=================================================================\n",
      "input_10 (InputLayer)        (None, 890)               0         \n",
      "_________________________________________________________________\n",
      "dense_35 (Dense)             (None, 445)               396495    \n",
      "_________________________________________________________________\n",
      "p_re_lu_29 (PReLU)           (None, 445)               445       \n",
      "_________________________________________________________________\n",
      "dense_36 (Dense)             (None, 56)                24976     \n",
      "_________________________________________________________________\n",
      "p_re_lu_30 (PReLU)           (None, 56)                56        \n",
      "_________________________________________________________________\n",
      "dense_37 (Dense)             (None, 56)                3192      \n",
      "_________________________________________________________________\n",
      "p_re_lu_31 (PReLU)           (None, 56)                56        \n",
      "_________________________________________________________________\n",
      "dense_38 (Dense)             (None, 460)               26220     \n",
      "_________________________________________________________________\n",
      "dropout_5 (Dropout)          (None, 460)               0         \n",
      "_________________________________________________________________\n",
      "p_re_lu_32 (PReLU)           (None, 460)               460       \n",
      "=================================================================\n",
      "Total params: 451,900\n",
      "Trainable params: 451,900\n",
      "Non-trainable params: 0\n",
      "_________________________________________________________________\n",
      "None\n"
     ]
    }
   ],
   "source": [
    "encoder = Model(input_data, encoded)\n",
    "print (encoder.summary())"
   ]
  },
  {
   "cell_type": "markdown",
   "metadata": {},
   "source": [
    "## Model Description: Autoencoder"
   ]
  },
  {
   "cell_type": "code",
   "execution_count": 35,
   "metadata": {},
   "outputs": [
    {
     "name": "stdout",
     "output_type": "stream",
     "text": [
      "_________________________________________________________________\n",
      "Layer (type)                 Output Shape              Param #   \n",
      "=================================================================\n",
      "input_10 (InputLayer)        (None, 890)               0         \n",
      "_________________________________________________________________\n",
      "dense_35 (Dense)             (None, 445)               396495    \n",
      "_________________________________________________________________\n",
      "p_re_lu_29 (PReLU)           (None, 445)               445       \n",
      "_________________________________________________________________\n",
      "dense_36 (Dense)             (None, 56)                24976     \n",
      "_________________________________________________________________\n",
      "p_re_lu_30 (PReLU)           (None, 56)                56        \n",
      "_________________________________________________________________\n",
      "dense_37 (Dense)             (None, 56)                3192      \n",
      "_________________________________________________________________\n",
      "p_re_lu_31 (PReLU)           (None, 56)                56        \n",
      "_________________________________________________________________\n",
      "dense_38 (Dense)             (None, 460)               26220     \n",
      "_________________________________________________________________\n",
      "dropout_5 (Dropout)          (None, 460)               0         \n",
      "_________________________________________________________________\n",
      "p_re_lu_32 (PReLU)           (None, 460)               460       \n",
      "_________________________________________________________________\n",
      "dense_39 (Dense)             (None, 56)                25816     \n",
      "_________________________________________________________________\n",
      "p_re_lu_33 (PReLU)           (None, 56)                56        \n",
      "_________________________________________________________________\n",
      "dense_40 (Dense)             (None, 56)                3192      \n",
      "_________________________________________________________________\n",
      "p_re_lu_34 (PReLU)           (None, 56)                56        \n",
      "_________________________________________________________________\n",
      "dense_41 (Dense)             (None, 56)                3192      \n",
      "_________________________________________________________________\n",
      "p_re_lu_35 (PReLU)           (None, 56)                56        \n",
      "_________________________________________________________________\n",
      "dense_42 (Dense)             (None, 890)               50730     \n",
      "=================================================================\n",
      "Total params: 534,998\n",
      "Trainable params: 534,998\n",
      "Non-trainable params: 0\n",
      "_________________________________________________________________\n",
      "None\n"
     ]
    }
   ],
   "source": [
    "autoencoder = Model(input_data, decoded)\n",
    "print (autoencoder.summary())\n"
   ]
  },
  {
   "cell_type": "markdown",
   "metadata": {},
   "source": [
    "## Model Decription: Decoder\n"
   ]
  },
  {
   "cell_type": "code",
   "execution_count": 36,
   "metadata": {},
   "outputs": [
    {
     "name": "stdout",
     "output_type": "stream",
     "text": [
      "_________________________________________________________________\n",
      "Layer (type)                 Output Shape              Param #   \n",
      "=================================================================\n",
      "input_11 (InputLayer)        (None, 460)               0         \n",
      "_________________________________________________________________\n",
      "p_re_lu_32 (PReLU)           (None, 460)               460       \n",
      "_________________________________________________________________\n",
      "dense_39 (Dense)             (None, 56)                25816     \n",
      "_________________________________________________________________\n",
      "p_re_lu_33 (PReLU)           (None, 56)                56        \n",
      "_________________________________________________________________\n",
      "dense_40 (Dense)             (None, 56)                3192      \n",
      "_________________________________________________________________\n",
      "p_re_lu_34 (PReLU)           (None, 56)                56        \n",
      "_________________________________________________________________\n",
      "dense_41 (Dense)             (None, 56)                3192      \n",
      "_________________________________________________________________\n",
      "p_re_lu_35 (PReLU)           (None, 56)                56        \n",
      "_________________________________________________________________\n",
      "dense_42 (Dense)             (None, 890)               50730     \n",
      "=================================================================\n",
      "Total params: 83,558\n",
      "Trainable params: 83,558\n",
      "Non-trainable params: 0\n",
      "_________________________________________________________________\n",
      "None\n"
     ]
    }
   ],
   "source": [
    "encoded_input = Input(shape=(encoding_dim,))\n",
    "\n",
    "decoder = Model(encoded_input,autoencoder.layers[-1](autoencoder.layers[-2](autoencoder.layers[-3](autoencoder.layers[-4](\n",
    "    autoencoder.layers[-5](autoencoder.layers[-6](autoencoder.layers[-7](autoencoder.layers[-8](encoded_input)))))))))\n",
    "\n",
    "print (decoder.summary())"
   ]
  },
  {
   "cell_type": "code",
   "execution_count": 39,
   "metadata": {},
   "outputs": [],
   "source": [
    "autoencoder.compile(optimizer=optimizers.adam(lr=1e-4),loss=objectives.mean_squared_error,metrics=['mse'])"
   ]
  },
  {
   "cell_type": "code",
   "execution_count": 40,
   "metadata": {},
   "outputs": [
    {
     "name": "stdout",
     "output_type": "stream",
     "text": [
      "Epoch 1/1\n",
      "289428/289428 [==============================] - 191s - loss: 0.0414 - mean_squared_error: 2.9270e-05   \n"
     ]
    },
    {
     "data": {
      "text/plain": [
       "<keras.callbacks.History at 0x2b06eac35e10>"
      ]
     },
     "execution_count": 40,
     "metadata": {},
     "output_type": "execute_result"
    }
   ],
   "source": [
    "from keras.callbacks import TensorBoard\n",
    "batch_size = 10\n",
    "autoencoder.fit(X_train,X_train,epochs=1,batch_size=batch_size,shuffle=True,verbose=1,callbacks=[TensorBoard(log_dir='logs/'+str(time.time()), histogram_freq=1, write_graph=True, write_grads=True)])"
   ]
  },
  {
   "cell_type": "code",
   "execution_count": 41,
   "metadata": {},
   "outputs": [
    {
     "name": "stdout",
     "output_type": "stream",
     "text": [
      "Autoencoder Reconstruction Error:  2.06543826428e-05\n"
     ]
    }
   ],
   "source": [
    "#with K.get_session():\n",
    "\n",
    "#still need to use train/test splits to properly evaluate performance\n",
    "enc_red_x = encoder.predict(X_test)\n",
    "enc_recon_x = decoder.predict(enc_red_x)\n",
    "enc_error = mean_squared_error(X_test,enc_recon_x)\n",
    "print(\"Autoencoder Reconstruction Error: \",enc_error)"
   ]
  },
  {
   "cell_type": "code",
   "execution_count": 42,
   "metadata": {},
   "outputs": [
    {
     "name": "stderr",
     "output_type": "stream",
     "text": [
      "/global/homes/w/wdjo224/anaconda3/envs/protein_binding/lib/python3.6/site-packages/ipykernel_launcher.py:6: VisibleDeprecationWarning: boolean index did not match indexed array along dimension 0; dimension is 33284680 but corresponding boolean dimension is 72358\n",
      "  \n",
      "/global/homes/w/wdjo224/anaconda3/envs/protein_binding/lib/python3.6/site-packages/ipykernel_launcher.py:7: VisibleDeprecationWarning: boolean index did not match indexed array along dimension 0; dimension is 33284680 but corresponding boolean dimension is 72358\n",
      "  import sys\n"
     ]
    },
    {
     "data": {
      "image/png": "[encoded data removed]",
      "text/plain": [
       "<matplotlib.figure.Figure at 0x2b06ee9a42b0>"
      ]
     },
     "metadata": {},
     "output_type": "display_data"
    }
   ],
   "source": [
    "import matplotlib.pyplot as plt\n",
    "#from scipy.stats import gaussian_kde\n",
    "import seaborn as sns\n",
    "\n",
    "\n",
    "sns.kdeplot(enc_red_x.flatten()[y_test.flatten()==0],shade=True, color=\"r\")\n",
    "sns.kdeplot(enc_red_x.flatten()[y_test.flatten()==1],shade=True, color=\"b\")\n",
    "plt.show()\n"
   ]
  },
  {
   "cell_type": "markdown",
   "metadata": {},
   "source": [
    "Why is there so much overlap between the two sets? Need more features? Don't normalize the data?\n",
    "### This is may be evidence of a biased estimation of the identity function. \n",
    "The values corresponding to the positive class are nearly irrelevant considering the much larger class of negatives. SO to get a low reconstruction error, just map all of the negatives correctly."
   ]
  },
  {
   "cell_type": "markdown",
   "metadata": {
    "collapsed": true
   },
   "source": [
    "## Save the features as an additional set to test on"
   ]
  },
  {
   "cell_type": "code",
   "execution_count": null,
   "metadata": {},
   "outputs": [],
   "source": [
    "output_features = pd.DataFrame({\"features\":encoder.predict(X),\"labels\":y})\n",
    "print(output_features.shape)\n",
    "#output_features.to_csv(\"preprocessed_features_autoencoder.csv\",header=True,index=False)\n"
   ]
  },
  {
   "cell_type": "code",
   "execution_count": 64,
   "metadata": {},
   "outputs": [],
   "source": [
    "from sklearn.ensemble import RandomForestClassifier\n",
    "\n",
    "from sklearn.metrics import accuracy_score, f1_score\n",
    "\n",
    "enc_x_train,enc_x_test,enc_y_train,enc_y_test = train_test_split(encoder.predict(X),y.flatten(),stratify=y.flatten()\n",
    "                                                                 ,test_size=0.2)\n",
    "train_f1_list = []\n",
    "test_f1_list = []\n",
    "f1_list = []\n",
    "for i in range(1,20):\n",
    "    rforest= RandomForestClassifier(n_estimators = i,n_jobs=10)\n",
    "\n",
    "    rforest.fit(enc_x_train,enc_y_train)\n",
    "    enc_preds_train = rforest.predict(enc_x_train)\n",
    "    enc_preds_test = rforest.predict(enc_x_test)\n",
    "    test_f1_list.append(f1_score(enc_preds_test,enc_y_test))\n",
    "    train_f1_list.append(f1_score(enc_preds_train,enc_y_train))\n"
   ]
  },
  {
   "cell_type": "code",
   "execution_count": 66,
   "metadata": {},
   "outputs": [
    {
     "data": {
      "image/png": "[encoded data removed]",
      "text/plain": [
       "<matplotlib.figure.Figure at 0x2b06a187ce80>"
      ]
     },
     "metadata": {},
     "output_type": "display_data"
    }
   ],
   "source": [
    "import matplotlib.pyplot as plt\n",
    "\n",
    "plt.plot(train_f1_list,label=\"train_f1\")\n",
    "plt.plot(test_f1_list,label=\"test_f1\")\n",
    "plt.show()"
   ]
  },
  {
   "cell_type": "code",
   "execution_count": 61,
   "metadata": {},
   "outputs": [
    {
     "name": "stdout",
     "output_type": "stream",
     "text": [
      "train\t enc_accuracy 0.99792003538 \tenc_f1-score 0.958025380003\n"
     ]
    }
   ],
   "source": [
    "enc_preds_train = rforest.predict(enc_x_train)\n",
    "\n",
    "enc_accuacy_train = accuracy_score(enc_preds_train,enc_y_train)\n",
    "enc_f1_train = f1_score(enc_preds_train,enc_y_train)\n",
    "\n",
    "print(\"train\\t enc_accuracy\",enc_accuacy_train,\"\\tenc_f1-score\",enc_f1_train)"
   ]
  },
  {
   "cell_type": "code",
   "execution_count": 62,
   "metadata": {},
   "outputs": [
    {
     "name": "stdout",
     "output_type": "stream",
     "text": [
      "test\t enc_accuracy 0.972345835982 \tenc_f1-score 0.190861302062\n"
     ]
    }
   ],
   "source": [
    "enc_preds_test = rforest.predict(enc_x_test)\n",
    "\n",
    "enc_accuacy_test = accuracy_score(enc_preds_test,enc_y_test)\n",
    "enc_f1_test = f1_score(enc_preds_test,enc_y_test)\n",
    "\n",
    "print(\"test\\t enc_accuracy\",enc_accuacy_test,\"\\tenc_f1-score\",enc_f1_test)"
   ]
  },
  {
   "cell_type": "code",
   "execution_count": null,
   "metadata": {
    "collapsed": true
   },
   "outputs": [],
   "source": []
  }
 ],
 "metadata": {
  "anaconda-cloud": {},
  "kernelspec": {
   "display_name": "protein_binding",
   "language": "python",
   "name": "protein_binding"
  },
  "language_info": {
   "codemirror_mode": {
    "name": "ipython",
    "version": 3
   },
   "file_extension": ".py",
   "mimetype": "text/x-python",
   "name": "python",
   "nbconvert_exporter": "python",
   "pygments_lexer": "ipython3",
   "version": "3.6.1"
  }
 },
 "nbformat": 4,
 "nbformat_minor": 1
}
